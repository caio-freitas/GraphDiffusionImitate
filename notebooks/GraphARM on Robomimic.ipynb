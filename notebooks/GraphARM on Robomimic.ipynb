{
 "cells": [
  {
   "cell_type": "code",
   "execution_count": 1,
   "metadata": {},
   "outputs": [
    {
     "name": "stderr",
     "output_type": "stream",
     "text": [
      "/home/caio/.local/lib/python3.8/site-packages/tqdm/auto.py:21: TqdmWarning: IProgress not found. Please update jupyter and ipywidgets. See https://ipywidgets.readthedocs.io/en/stable/user_install.html\n",
      "  from .autonotebook import tqdm as notebook_tqdm\n"
     ]
    }
   ],
   "source": [
    "from torch_geometric.datasets import ZINC\n",
    "import torch\n",
    "import matplotlib.animation\n",
    "import matplotlib.pyplot as plt\n",
    "import networkx as nx\n",
    "import torch_geometric\n",
    "from tqdm import tqdm\n",
    "from torch.nn import Linear, ReLU\n",
    "from torch_geometric.nn import Sequential, GCNConv\n",
    "\n",
    "from imitation.model.graph_diffusion import DiffusionOrderingNetwork, DenoisingNetwork\n",
    "from benchmarks.GraphARM.utils import NodeMasking\n",
    "from benchmarks.GraphARM.grapharm import GraphARM\n",
    "\n",
    "from imitation.dataset.robomimic_graph_dataset import RobomimicGraphDataset"
   ]
  },
  {
   "cell_type": "code",
   "execution_count": 4,
   "metadata": {},
   "outputs": [
    {
     "name": "stderr",
     "output_type": "stream",
     "text": [
      "Processing...\n"
     ]
    },
    {
     "name": "stdout",
     "output_type": "stream",
     "text": [
      "Warning: No dynamics information for link: panda_link8, setting all inertial properties to 1.\n"
     ]
    },
    {
     "name": "stderr",
     "output_type": "stream",
     "text": [
      "100%|██████████| 200/200 [00:32<00:00,  6.18it/s]\n",
      "Done!\n",
      "/home/caio/mambaforge/envs/imitation/lib/python3.8/site-packages/torch_geometric/deprecation.py:22: UserWarning: 'data.DataLoader' is deprecated, use 'loader.DataLoader' instead\n",
      "  warnings.warn(out)\n"
     ]
    }
   ],
   "source": [
    "# custom graph dataset for robomimic\n",
    "dataset = RobomimicGraphDataset(dataset_path=\"/home/caio/workspace/GraphDiffusionImitate/data/square/ph/low_dim_v141.hdf5\",\n",
    "                                action_keys=['robot0_joint_vel'],\n",
    "                                pred_horizon=4,\n",
    "                                obs_horizon=2,\n",
    "                                action_horizon=2,\n",
    "                                object_state_sizes=[\n",
    "                                    {\"name\": \"nut_pos\", \"size\": 3},\n",
    "                                    {\"name\": \"nut_quat\", \"size\": 4},\n",
    "                                    {\"name\": \"nut_to_eef_pos\", \"size\": 3},\n",
    "                                    {\"name\": \"nut_to_eef_quat\", \"size\": 4}\n",
    "                                ],\n",
    "                                object_state_keys=[\"nut_pos\"],\n",
    "                                num_objects = 1,\n",
    "                                mode=\"end-effector\"\n",
    "                                # mode = \"joint-space\"\n",
    "                                )\n",
    "dataloader = torch_geometric.data.DataLoader(dataset,\n",
    "                                             batch_size=1, # does not work with batch_size > 1\n",
    "                                             shuffle=True)"
   ]
  },
  {
   "cell_type": "code",
   "execution_count": 23,
   "metadata": {},
   "outputs": [
    {
     "data": {
      "text/plain": [
       "VGAE(\n",
       "  (encoder): Sequential(\n",
       "    (0): GCNConv(4, 8)\n",
       "    (1): ReLU(inplace=True)\n",
       "    (2): GCNConv(8, 4)\n",
       "    (3): ReLU(inplace=True)\n",
       "    (4): Linear(in_features=4, out_features=2, bias=True)\n",
       "  )\n",
       "  (decoder): Sequential(\n",
       "    (0): GCNConv(2, 4)\n",
       "    (1): ReLU(inplace=True)\n",
       "    (2): GCNConv(4, 8)\n",
       "    (3): ReLU(inplace=True)\n",
       "    (4): GCNConv(8, 4)\n",
       "  )\n",
       ")"
      ]
     },
     "execution_count": 23,
     "metadata": {},
     "output_type": "execute_result"
    }
   ],
   "source": [
    "# VAE model\n",
    "from torch_geometric.nn import  VGAE\n",
    "import torch.nn as nn\n",
    "import torch.nn.functional as F\n",
    "\n",
    "in_channels = dataset[0].x.size(-1)\n",
    "out_channels = 2\n",
    "\n",
    "\n",
    "model = VGAE(encoder=Sequential('x, edge_index', [\n",
    "    (GCNConv(in_channels, 8), 'x, edge_index -> x'),\n",
    "    ReLU(inplace=True),\n",
    "    (GCNConv(8, 4), 'x, edge_index -> x'),\n",
    "    ReLU(inplace=True),\n",
    "    Linear(4, out_channels),\n",
    "]),\n",
    "    decoder = Sequential('x, edge_index', [\n",
    "        (GCNConv(out_channels, 4), 'x, edge_index -> x'),\n",
    "        ReLU(inplace=True),\n",
    "        (GCNConv(4, 8), 'x, edge_index -> x'),\n",
    "        ReLU(inplace=True),\n",
    "        (GCNConv(8, in_channels), 'x, edge_index -> x'),\n",
    "    ]))\n",
    "model"
   ]
  },
  {
   "cell_type": "code",
   "execution_count": 24,
   "metadata": {},
   "outputs": [
    {
     "name": "stderr",
     "output_type": "stream",
     "text": [
      "Loss: 0.6865: 100%|██████████| 2/2 [01:43<00:00, 51.80s/it]\n"
     ]
    }
   ],
   "source": [
    "\n",
    "optimizer = torch.optim.Adam(model.parameters(), lr=0.00001)\n",
    "# reconcstruction loss + KL divergence\n",
    "def loss_function(preds, labels, mu, logvar, n_nodes, norm):\n",
    "    cost = norm * F.binary_cross_entropy_with_logits(preds, labels)\n",
    "    KLD = -0.5 / n_nodes * torch.mean(torch.sum(1 + 2 * logvar - mu.pow(2) - logvar.exp().pow(2)))\n",
    "    return cost + KLD\n",
    "\n",
    "with tqdm(range(2)) as pbar:\n",
    "    for epoch in pbar:\n",
    "        for batch in dataloader:\n",
    "            batch = batch.to('cpu')\n",
    "            optimizer.zero_grad()\n",
    "            # print(batch.x.float())\n",
    "            # print(batch.edge_index.int())\n",
    "            out = model.encoder(batch.x.float(), batch.edge_index.int())\n",
    "            # print(out)\n",
    "            out = model.decoder(out, batch.edge_index.int())\n",
    "            loss = loss_function(out, batch.x.float(), out[0], out[1], batch.num_nodes, 1)\n",
    "            loss.backward()\n",
    "            nn.utils.clip_grad_value_(model.parameters(), clip_value=1.0)\n",
    "            optimizer.step()\n",
    "            # save model\n",
    "            pbar.set_description(f\"Loss: {loss.item():.4f}\")\n",
    "        torch.save(model.state_dict(), \"model.pt\")"
   ]
  },
  {
   "cell_type": "code",
   "execution_count": 25,
   "metadata": {},
   "outputs": [
    {
     "data": {
      "text/plain": [
       "array([[ 0.01632299, -0.31006137, -0.00354026, -0.24675733],\n",
       "       [ 0.01859851, -0.28351384, -0.01827491, -0.28042677],\n",
       "       [-0.11494303, -0.18433139, -0.11911406, -0.17048085],\n",
       "       [-0.2286244 , -0.26207915, -0.24127063, -0.09794625],\n",
       "       [-0.26696587, -0.30530635, -0.29923028, -0.11033972],\n",
       "       [-0.2731024 , -0.2253134 , -0.2775925 , -0.14660078],\n",
       "       [-0.2634911 , -0.12398656, -0.23169023, -0.17857623],\n",
       "       [-0.23135492, -0.10476802, -0.1891623 , -0.16147882]],\n",
       "      dtype=float32)"
      ]
     },
     "execution_count": 25,
     "metadata": {},
     "output_type": "execute_result"
    }
   ],
   "source": [
    "# sample from latent space\n",
    "x_latent = torch.randn((8,out_channels))\n",
    "edge_index = torch.tensor([[0, 1, 2, 3, 4, 5, 6],\n",
    "                           [1, 2, 3, 4, 5, 6, 7]])\n",
    "sample = model.decode(x_latent, edge_index)\n",
    "sample = sample.detach().numpy()\n",
    "sample"
   ]
  },
  {
   "cell_type": "code",
   "execution_count": 60,
   "metadata": {},
   "outputs": [],
   "source": [
    "dataset.x = torch.tensor(sample)\n",
    "dataset.edge_index = edge_index\n",
    "dataset.edge_attr = torch.tensor([[1.0]]*len(edge_index[0]))"
   ]
  },
  {
   "cell_type": "code",
   "execution_count": 61,
   "metadata": {},
   "outputs": [
    {
     "name": "stdout",
     "output_type": "stream",
     "text": [
      "Using device cuda\n"
     ]
    },
    {
     "name": "stderr",
     "output_type": "stream",
     "text": [
      "/home/caio/.local/lib/python3.8/site-packages/torch/nn/init.py:405: UserWarning: Initializing zero-element tensors is a no-op\n",
      "  warnings.warn(\"Initializing zero-element tensors is a no-op\")\n"
     ]
    }
   ],
   "source": [
    "diff_ord_net = DiffusionOrderingNetwork(node_feature_dim=dataset[0].x.shape[1],\n",
    "                                        num_edge_types=3,\n",
    "                                        num_layers=3,\n",
    "                                        out_channels=1)\n",
    "\n",
    "# masker = NodeMasking(dataset)\n",
    "\n",
    "\n",
    "denoising_net = DenoisingNetwork(\n",
    "    node_feature_dim=dataset[0].x.shape[1],\n",
    "    edge_feature_dim=dataset.num_edge_features,\n",
    "    num_edge_types=3,\n",
    "    num_layers=7,\n",
    "    # hidden_dim=32\n",
    ")\n",
    "\n",
    "\n",
    "device = torch.device('cuda' if torch.cuda.is_available() else 'cpu')\n",
    "print(f\"Using device {device}\")\n",
    "\n",
    "grapharm = GraphARM(\n",
    "    dataset=dataset,\n",
    "    denoising_network=denoising_net,\n",
    "    diffusion_ordering_network=diff_ord_net,\n",
    "    device=device\n",
    ")\n"
   ]
  },
  {
   "cell_type": "code",
   "execution_count": 62,
   "metadata": {},
   "outputs": [
    {
     "ename": "AttributeError",
     "evalue": "'NoneType' object has no attribute 'reshape'",
     "output_type": "error",
     "traceback": [
      "\u001b[0;31m---------------------------------------------------------------------------\u001b[0m",
      "\u001b[0;31mAttributeError\u001b[0m                            Traceback (most recent call last)",
      "Cell \u001b[0;32mIn[62], line 2\u001b[0m\n\u001b[1;32m      1\u001b[0m graph \u001b[38;5;241m=\u001b[39m dataset[\u001b[38;5;241m0\u001b[39m]\n\u001b[0;32m----> 2\u001b[0m new_node_type, new_connections \u001b[38;5;241m=\u001b[39m \u001b[43mgrapharm\u001b[49m\u001b[38;5;241;43m.\u001b[39;49m\u001b[43mpredict_new_node\u001b[49m\u001b[43m(\u001b[49m\u001b[43mgraph\u001b[49m\u001b[43m,\u001b[49m\u001b[43m \u001b[49m\u001b[43msampling_method\u001b[49m\u001b[38;5;241;43m=\u001b[39;49m\u001b[38;5;124;43m\"\u001b[39;49m\u001b[38;5;124;43msample\u001b[39;49m\u001b[38;5;124;43m\"\u001b[39;49m\u001b[43m,\u001b[49m\u001b[43m \u001b[49m\u001b[43mpreprocess\u001b[49m\u001b[38;5;241;43m=\u001b[39;49m\u001b[38;5;28;43;01mFalse\u001b[39;49;00m\u001b[43m)\u001b[49m\n",
      "File \u001b[0;32m~/workspace/GraphDiffusionImitate/benchmarks/GraphARM/grapharm.py:234\u001b[0m, in \u001b[0;36mpredict_new_node\u001b[0;34m(self, graph, sampling_method, preprocess)\u001b[0m\n\u001b[1;32m    232\u001b[0m \u001b[38;5;28;01mwith\u001b[39;00m torch\u001b[38;5;241m.\u001b[39mno_grad():\n\u001b[1;32m    233\u001b[0m     \u001b[38;5;28;01mif\u001b[39;00m preprocess:\n\u001b[0;32m--> 234\u001b[0m         graph \u001b[38;5;241m=\u001b[39m \u001b[38;5;28mself\u001b[39m\u001b[38;5;241m.\u001b[39mpreprocess(graph)\n\u001b[1;32m    235\u001b[0m     \u001b[38;5;66;03m# add masked node to graph\u001b[39;00m\n\u001b[1;32m    236\u001b[0m     graph \u001b[38;5;241m=\u001b[39m \u001b[38;5;28mself\u001b[39m\u001b[38;5;241m.\u001b[39mmasker\u001b[38;5;241m.\u001b[39madd_masked_node(graph)\n",
      "File \u001b[0;32m~/workspace/GraphDiffusionImitate/benchmarks/GraphARM/utils.py:77\u001b[0m, in \u001b[0;36mNodeMasking.add_masked_node\u001b[0;34m(self, datapoint)\u001b[0m\n\u001b[1;32m     75\u001b[0m datapoint \u001b[38;5;241m=\u001b[39m datapoint\u001b[38;5;241m.\u001b[39mclone()\n\u001b[1;32m     76\u001b[0m datapoint\u001b[38;5;241m.\u001b[39mx \u001b[38;5;241m=\u001b[39m torch\u001b[38;5;241m.\u001b[39mcat([datapoint\u001b[38;5;241m.\u001b[39mx\u001b[38;5;241m.\u001b[39mreshape(\u001b[38;5;241m-\u001b[39m\u001b[38;5;241m1\u001b[39m,\u001b[38;5;241m1\u001b[39m), torch\u001b[38;5;241m.\u001b[39mtensor([[\u001b[38;5;28mself\u001b[39m\u001b[38;5;241m.\u001b[39mNODE_MASK]])], dim\u001b[38;5;241m=\u001b[39m\u001b[38;5;241m0\u001b[39m)\n\u001b[0;32m---> 77\u001b[0m datapoint\u001b[38;5;241m.\u001b[39medge_attr \u001b[38;5;241m=\u001b[39m torch\u001b[38;5;241m.\u001b[39mcat([\u001b[43mdatapoint\u001b[49m\u001b[38;5;241;43m.\u001b[39;49m\u001b[43medge_attr\u001b[49m\u001b[38;5;241;43m.\u001b[39;49m\u001b[43mreshape\u001b[49m(\u001b[38;5;241m-\u001b[39m\u001b[38;5;241m1\u001b[39m,\u001b[38;5;241m1\u001b[39m), torch\u001b[38;5;241m.\u001b[39mtensor([\u001b[38;5;28mself\u001b[39m\u001b[38;5;241m.\u001b[39mEDGE_MASK])\u001b[38;5;241m.\u001b[39mrepeat(datapoint\u001b[38;5;241m.\u001b[39mx\u001b[38;5;241m.\u001b[39mshape[\u001b[38;5;241m0\u001b[39m]\u001b[38;5;241m-\u001b[39m\u001b[38;5;241m1\u001b[39m, \u001b[38;5;241m1\u001b[39m)], dim\u001b[38;5;241m=\u001b[39m\u001b[38;5;241m0\u001b[39m)\n\u001b[1;32m     78\u001b[0m datapoint\u001b[38;5;241m.\u001b[39medge_index \u001b[38;5;241m=\u001b[39m torch\u001b[38;5;241m.\u001b[39mcat([datapoint\u001b[38;5;241m.\u001b[39medge_index, torch\u001b[38;5;241m.\u001b[39mtensor([(node, datapoint\u001b[38;5;241m.\u001b[39mx\u001b[38;5;241m.\u001b[39mshape[\u001b[38;5;241m0\u001b[39m]\u001b[38;5;241m-\u001b[39m\u001b[38;5;241m1\u001b[39m) \u001b[38;5;28;01mfor\u001b[39;00m node \u001b[38;5;129;01min\u001b[39;00m \u001b[38;5;28mrange\u001b[39m(datapoint\u001b[38;5;241m.\u001b[39mx\u001b[38;5;241m.\u001b[39mshape[\u001b[38;5;241m0\u001b[39m]\u001b[38;5;241m-\u001b[39m\u001b[38;5;241m1\u001b[39m)])\u001b[38;5;241m.\u001b[39mT], dim\u001b[38;5;241m=\u001b[39m\u001b[38;5;241m1\u001b[39m)\n\u001b[1;32m     79\u001b[0m \u001b[38;5;28;01mreturn\u001b[39;00m datapoint\n",
      "\u001b[0;31mAttributeError\u001b[0m: 'NoneType' object has no attribute 'reshape'"
     ]
    }
   ],
   "source": [
    "graph = dataset[0]\n",
    "new_node_type, new_connections = grapharm.predict_new_node(graph, sampling_method=\"sample\", preprocess=False)"
   ]
  }
 ],
 "metadata": {
  "kernelspec": {
   "display_name": "imitation",
   "language": "python",
   "name": "python3"
  },
  "language_info": {
   "codemirror_mode": {
    "name": "ipython",
    "version": 3
   },
   "file_extension": ".py",
   "mimetype": "text/x-python",
   "name": "python",
   "nbconvert_exporter": "python",
   "pygments_lexer": "ipython3",
   "version": "3.8.17"
  }
 },
 "nbformat": 4,
 "nbformat_minor": 2
}
